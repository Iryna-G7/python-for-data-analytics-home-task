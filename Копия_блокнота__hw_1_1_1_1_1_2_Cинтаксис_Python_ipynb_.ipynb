{
 "cells": [
  {
   "cell_type": "markdown",
   "metadata": {
    "id": "tvPKWXfD7yRv"
   },
   "source": [
    "#Домашнє завдання до теми \"Синтаксис Python\"\n",
    "\n",
    "В ДЗ першого модулю важливою умовою виконання завдань є те, що ми не імпортуємо жодних бібліотек, а робимо все на чистому Python, використовуючи лише базовий функціонал. Це необхідно аби відпрацювати роботу з базовими типами даних. А використовувати бібліотеки ми ще навчимось далі :)"
   ]
  },
  {
   "cell_type": "markdown",
   "metadata": {
    "id": "xE1KHmUbQVbC"
   },
   "source": [
    "1. Створіть змінну, яка буде зберігати кількість яблук. І надайте їй значення 5. Виведіть значення змінної на екран."
   ]
  },
  {
   "cell_type": "code",
   "execution_count": 1,
   "metadata": {
    "ExecuteTime": {
     "end_time": "2025-06-19T21:30:49.077321Z",
     "start_time": "2025-06-19T21:30:49.074367Z"
    },
    "id": "iz5QpN-vQUtN"
   },
   "outputs": [
    {
     "name": "stdout",
     "output_type": "stream",
     "text": [
      "5\n"
     ]
    }
   ],
   "source": [
    "num_apples = 5\n",
    "print(num_apples)"
   ]
  },
  {
   "cell_type": "markdown",
   "metadata": {
    "id": "wx6RsBHAQd9q"
   },
   "source": [
    "2. Виведіть тип змінної, створеної в завданні (1)."
   ]
  },
  {
   "cell_type": "code",
   "execution_count": 2,
   "metadata": {
    "ExecuteTime": {
     "end_time": "2025-06-19T21:30:58.807005Z",
     "start_time": "2025-06-19T21:30:58.801663Z"
    },
    "id": "f48l2PhiQi86"
   },
   "outputs": [
    {
     "data": {
      "text/plain": [
       "int"
      ]
     },
     "execution_count": 2,
     "metadata": {},
     "output_type": "execute_result"
    }
   ],
   "source": [
    "type(num_apples)"
   ]
  },
  {
   "cell_type": "markdown",
   "metadata": {
    "id": "UEc59pPcQnva"
   },
   "source": [
    "3. Додайте до значення змінної, створеної в завданні (1) число `12` і виведіть результат на екран з допомогою команди `print()`."
   ]
  },
  {
   "cell_type": "code",
   "execution_count": 3,
   "metadata": {
    "ExecuteTime": {
     "end_time": "2025-06-19T21:31:07.931780Z",
     "start_time": "2025-06-19T21:31:07.929379Z"
    },
    "id": "gu-vkERpQoCY"
   },
   "outputs": [
    {
     "name": "stdout",
     "output_type": "stream",
     "text": [
      "17\n"
     ]
    }
   ],
   "source": [
    "num_apples = num_apples + 12\n",
    "print(num_apples)"
   ]
  },
  {
   "cell_type": "markdown",
   "metadata": {
    "id": "yOztaNuqqcMy"
   },
   "source": [
    "4. Запустіть код нижче аби створити дві змінні."
   ]
  },
  {
   "cell_type": "code",
   "execution_count": 4,
   "metadata": {
    "ExecuteTime": {
     "end_time": "2025-06-19T21:31:19.011575Z",
     "start_time": "2025-06-19T21:31:19.009210Z"
    },
    "id": "kbXeQSgcqncV"
   },
   "outputs": [],
   "source": [
    "a = 48\n",
    "b = 3"
   ]
  },
  {
   "cell_type": "code",
   "execution_count": 7,
   "metadata": {
    "ExecuteTime": {
     "end_time": "2025-06-19T21:38:36.573304Z",
     "start_time": "2025-06-19T21:38:36.567943Z"
    }
   },
   "outputs": [
    {
     "data": {
      "text/plain": [
       "int"
      ]
     },
     "metadata": {},
     "output_type": "display_data"
    },
    {
     "data": {
      "text/plain": [
       "int"
      ]
     },
     "metadata": {},
     "output_type": "display_data"
    },
    {
     "data": {
      "text/plain": [
       "float"
      ]
     },
     "metadata": {},
     "output_type": "display_data"
    }
   ],
   "source": [
    "type(a), type(b), type(c)\n",
    "display(type(a), type(b), type(c))"
   ]
  },
  {
   "cell_type": "code",
   "execution_count": 6,
   "metadata": {
    "ExecuteTime": {
     "end_time": "2025-06-19T21:33:44.481325Z",
     "start_time": "2025-06-19T21:33:44.478863Z"
    }
   },
   "outputs": [
    {
     "name": "stdout",
     "output_type": "stream",
     "text": [
      "16.0\n"
     ]
    }
   ],
   "source": [
    "c = a / b\n",
    "print(c)"
   ]
  },
  {
   "cell_type": "markdown",
   "metadata": {
    "id": "9ojIRMw3qvw8"
   },
   "source": [
    "Створіть нову клітинку нижче цієї з допомогою натискання англійської літери `B`, коли ви НЕ в режимі редагування клітинки. В створеній клітинці створіть змінну `c`, яка буде містити результат ділення `a` на `b`."
   ]
  },
  {
   "cell_type": "markdown",
   "metadata": {
    "id": "XcmIZ24wq4px"
   },
   "source": [
    "Створіть ще одну нову клітинку, тільки тепер вище цієї. Для цього натисніть  англійську літеру `A`, коли ви НЕ в режимі редагування клітинки. Виведіть в новоствореній клітинці значення і тип кожної зі змінних `a`, `b`, `c`. Проаналізуйте результат.\n"
   ]
  },
  {
   "cell_type": "markdown",
   "metadata": {
    "id": "v9rj7B4-sGaG"
   },
   "source": [
    "У Python, коли ви ділите одне ціле число на інше, результат буде автоматично приведений до типу float, якщо він не є цілим числом. Це робиться для того, щоб забезпечити більш точний результат ділення, особливо коли результат міг би бути десятковим числом."
   ]
  },
  {
   "cell_type": "markdown",
   "metadata": {
    "id": "irjcdM8puaEx"
   },
   "source": [
    "5. Перегляньте наступний код, подумайте, що він виведе в результаті, та потім, запустіть його."
   ]
  },
  {
   "cell_type": "code",
   "execution_count": 10,
   "metadata": {
    "ExecuteTime": {
     "end_time": "2025-06-19T21:45:24.901199Z",
     "start_time": "2025-06-19T21:45:24.897600Z"
    },
    "id": "KmhCY0ttt8rW"
   },
   "outputs": [
    {
     "data": {
      "text/plain": [
       "38"
      ]
     },
     "execution_count": 10,
     "metadata": {},
     "output_type": "execute_result"
    }
   ],
   "source": [
    "a = 10\n",
    "a = 12\n",
    "a = 15\n",
    "\n",
    "b = 4\n",
    "b = 8\n",
    "b = 14\n",
    "\n",
    "c = 3\n",
    "c = 6\n",
    "c = 9\n",
    "\n",
    "\n",
    "a + b + c"
   ]
  },
  {
   "cell_type": "markdown",
   "metadata": {
    "id": "JrUTyGyQufwq"
   },
   "source": [
    "В клітинці нижче закоментуйте деякі рядки так, аби в результаті виконання останнього рядка коду (`a + b + c`) вивелось `17`.\n",
    "Увага! Рядки треба саме закоментувати, а не видалити.\n",
    "Можна зручно коментувати рядки з допомогою комбінації клавіш `Ctrl + /` (`Command + /` для Mac)"
   ]
  },
  {
   "cell_type": "code",
   "execution_count": 11,
   "metadata": {
    "ExecuteTime": {
     "end_time": "2025-06-19T21:46:14.940004Z",
     "start_time": "2025-06-19T21:46:14.936538Z"
    },
    "id": "R4VXgSQKwVoc"
   },
   "outputs": [
    {
     "data": {
      "text/plain": [
       "17"
      ]
     },
     "execution_count": 11,
     "metadata": {},
     "output_type": "execute_result"
    }
   ],
   "source": [
    "a = 10\n",
    "#a = 12\n",
    "#a = 15\n",
    "\n",
    "b = 4\n",
    "#b = 8\n",
    "#b = 14\n",
    "\n",
    "c = 3\n",
    "#c = 6\n",
    "#c = 9\n",
    "\n",
    "\n",
    "a + b + c"
   ]
  }
 ],
 "metadata": {
  "colab": {
   "provenance": []
  },
  "kernelspec": {
   "display_name": "Python 3 (ipykernel)",
   "language": "python",
   "name": "python3"
  },
  "language_info": {
   "codemirror_mode": {
    "name": "ipython",
    "version": 3
   },
   "file_extension": ".py",
   "mimetype": "text/x-python",
   "name": "python",
   "nbconvert_exporter": "python",
   "pygments_lexer": "ipython3",
   "version": "3.12.2"
  }
 },
 "nbformat": 4,
 "nbformat_minor": 1
}
